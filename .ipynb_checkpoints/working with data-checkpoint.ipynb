{
 "cells": [
  {
   "cell_type": "code",
   "execution_count": 1,
   "id": "c8d83b34",
   "metadata": {},
   "outputs": [],
   "source": [
    "import gradio as gr\n",
    "import numpy as np\n",
    "import pandas as pd\n",
    "import matplotlib as plt"
   ]
  },
  {
   "cell_type": "code",
   "execution_count": 2,
   "id": "6dea335b",
   "metadata": {},
   "outputs": [],
   "source": [
    "def sales_projections(employee_data):\n",
    "    sales_data = employee_data.iloc[:, 1:4].astype(\"int\").to_numpy()\n",
    "    regression_values = np.apply_along_axis(lambda row: \n",
    "        np.array(np.poly1d(np.polyfit([0,1,2], row, 2))), 0, sales_data)\n",
    "    projected_months = np.repeat(np.expand_dims(\n",
    "        np.arange(3,12), 0), len(sales_data), axis=0)\n",
    "    projected_values = np.array([\n",
    "        month * month * regression[0] + month * regression[1] + regression[2]\n",
    "        for month, regression in zip(projected_months, regression_values)])\n",
    "    plt.plot(projected_values.T)\n",
    "    plt.legend(employee_data[\"Name\"])\n",
    "    return employee_data, plt.gcf(), regression_values"
   ]
  },
  {
   "cell_type": "code",
   "execution_count": 7,
   "id": "e94d81e2",
   "metadata": {},
   "outputs": [],
   "source": [
    " app = gr.Interface(sales_projections, \n",
    "    gr.inputs.Dataframe(\n",
    "        headers=[\"Name\", \"Jan Sales\", \"Feb Sales\", \"Mar Sales\"],\n",
    "        default=[[\"Jon\", 12, 14, 18], [\"Alice\", 14, 17, 2], [\"Sana\", 8, 95, 12]]\n",
    "    ),\n",
    "    [\n",
    "        \"dataframe\",\n",
    "        \"plot\",\n",
    "        \"numpy\"\n",
    "    ],\n",
    "    description=\"Enter sales figures for employees to predict sales trajectory over year.\"\n",
    ")"
   ]
  },
  {
   "cell_type": "code",
   "execution_count": 8,
   "id": "573c9306",
   "metadata": {},
   "outputs": [
    {
     "name": "stdout",
     "output_type": "stream",
     "text": [
      "Running locally at: http://127.0.0.1:7861/\n",
      "To create a public link, set `share=True` in `launch()`.\n",
      "Interface loading below...\n"
     ]
    },
    {
     "data": {
      "text/html": [
       "\n",
       "        <iframe\n",
       "            width=\"900\"\n",
       "            height=\"500\"\n",
       "            src=\"http://127.0.0.1:7861/\"\n",
       "            frameborder=\"0\"\n",
       "            allowfullscreen\n",
       "        ></iframe>\n",
       "        "
      ],
      "text/plain": [
       "<IPython.lib.display.IFrame at 0x222ee5a9130>"
      ]
     },
     "metadata": {},
     "output_type": "display_data"
    },
    {
     "data": {
      "text/plain": [
       "(<Flask 'gradio.networking'>, 'http://127.0.0.1:7861/', None)"
      ]
     },
     "execution_count": 8,
     "metadata": {},
     "output_type": "execute_result"
    },
    {
     "name": "stderr",
     "output_type": "stream",
     "text": [
      "[2021-09-11 13:32:07,422] ERROR in app: Exception on /api/predict/ [POST]\n",
      "Traceback (most recent call last):\n",
      "  File \"C:\\Users\\ell\\miniconda3\\lib\\site-packages\\flask\\app.py\", line 2447, in wsgi_app\n",
      "    response = self.full_dispatch_request()\n",
      "  File \"C:\\Users\\ell\\miniconda3\\lib\\site-packages\\flask\\app.py\", line 1952, in full_dispatch_request\n",
      "    rv = self.handle_user_exception(e)\n",
      "  File \"C:\\Users\\ell\\miniconda3\\lib\\site-packages\\flask_cors\\extension.py\", line 165, in wrapped_function\n",
      "    return cors_after_request(app.make_response(f(*args, **kwargs)))\n",
      "  File \"C:\\Users\\ell\\miniconda3\\lib\\site-packages\\flask\\app.py\", line 1821, in handle_user_exception\n",
      "    reraise(exc_type, exc_value, tb)\n",
      "  File \"C:\\Users\\ell\\miniconda3\\lib\\site-packages\\flask\\_compat.py\", line 39, in reraise\n",
      "    raise value\n",
      "  File \"C:\\Users\\ell\\miniconda3\\lib\\site-packages\\flask\\app.py\", line 1950, in full_dispatch_request\n",
      "    rv = self.dispatch_request()\n",
      "  File \"C:\\Users\\ell\\miniconda3\\lib\\site-packages\\flask\\app.py\", line 1936, in dispatch_request\n",
      "    return self.view_functions[rule.endpoint](**req.view_args)\n",
      "  File \"C:\\Users\\ell\\miniconda3\\lib\\site-packages\\gradio\\networking.py\", line 91, in wrapper\n",
      "    return func(*args, **kwargs)\n",
      "  File \"C:\\Users\\ell\\miniconda3\\lib\\site-packages\\gradio\\networking.py\", line 179, in predict\n",
      "    prediction, durations = app.interface.process(raw_input)\n",
      "  File \"C:\\Users\\ell\\miniconda3\\lib\\site-packages\\gradio\\interface.py\", line 328, in process\n",
      "    predictions, durations = self.run_prediction(processed_input, return_duration=True)\n",
      "  File \"C:\\Users\\ell\\miniconda3\\lib\\site-packages\\gradio\\interface.py\", line 301, in run_prediction\n",
      "    prediction = predict_fn(*processed_input)\n",
      "  File \"<ipython-input-2-c6da275be134>\", line 10, in sales_projections\n",
      "    plt.plot(projected_values.T)\n",
      "AttributeError: module 'matplotlib' has no attribute 'plot'\n"
     ]
    }
   ],
   "source": [
    "app.launch()"
   ]
  },
  {
   "cell_type": "code",
   "execution_count": null,
   "id": "0860e8ea",
   "metadata": {},
   "outputs": [],
   "source": []
  }
 ],
 "metadata": {
  "kernelspec": {
   "display_name": "Python 3",
   "language": "python",
   "name": "python3"
  },
  "language_info": {
   "codemirror_mode": {
    "name": "ipython",
    "version": 3
   },
   "file_extension": ".py",
   "mimetype": "text/x-python",
   "name": "python",
   "nbconvert_exporter": "python",
   "pygments_lexer": "ipython3",
   "version": "3.8.8"
  }
 },
 "nbformat": 4,
 "nbformat_minor": 5
}
